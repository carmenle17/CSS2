{
  "nbformat": 4,
  "nbformat_minor": 0,
  "metadata": {
    "colab": {
      "name": "Le_Carmen_problem_set_4.ipynb",
      "provenance": []
    },
    "kernelspec": {
      "name": "python3",
      "display_name": "Python 3"
    },
    "language_info": {
      "name": "python"
    }
  },
  "cells": [
    {
      "cell_type": "markdown",
      "metadata": {
        "id": "n9Fr7qKeZTW-"
      },
      "source": [
        "# Block 1: Import libraries"
      ]
    },
    {
      "cell_type": "code",
      "metadata": {
        "id": "AfUcF9qfavk1"
      },
      "source": [
        "from bs4 import BeautifulSoup \n",
        "import requests "
      ],
      "execution_count": 1,
      "outputs": []
    },
    {
      "cell_type": "markdown",
      "metadata": {
        "id": "EosCwVN8ae23"
      },
      "source": [
        "# Block 2: create the function"
      ]
    },
    {
      "cell_type": "code",
      "metadata": {
        "id": "4tJuDPpMay6B"
      },
      "source": [
        "def weather(zipcode):\n",
        "  try:\n",
        "    # old url with XXXXX\n",
        "    url = 'https://weather.com/weather/today/l/XXXXX:4:US'\n",
        "    response = requests.get(url)\n",
        "\n",
        "    # pass in a zipcode to replace XXXXX in the old url\n",
        "    new_url = url.replace('XXXXX', str(zipcode))\n",
        "    response = requests.get(new_url)\n",
        "    soup = BeautifulSoup(response.content)\n",
        "\n",
        "    # print location (name and state of city)\n",
        "    forecast = soup.find_all(class_ = 'CurrentConditions--location--1Ayv3')  # html code showing location data\n",
        "    \n",
        "    city = forecast[0].text[0:-12]  # index only the city name\n",
        "    state = forecast[0].text[-10:-8]   # index only the state name\n",
        "    \n",
        "    print('city:', city)\n",
        "    print('state:', state)\n",
        "\n",
        "    # print weather in fahrenheit\n",
        "    temp = soup.find_all(class_='CurrentConditions--tempValue--3KcTQ')  # html code showing temperature in fahrenheit\n",
        "    print('temperature:',temp[0].text)\n",
        "\n",
        "    # print zipcode\n",
        "    print('zip code:',zipcode)\n",
        "\n",
        "  # if zip code passed in is not valid\n",
        "  except:   \n",
        "    print(\"Error: not a valid zip code\")"
      ],
      "execution_count": 2,
      "outputs": []
    },
    {
      "cell_type": "markdown",
      "metadata": {
        "id": "jbD4aDH2ahjp"
      },
      "source": [
        "# Block 3: Pass in a zipcode to give an example of your function"
      ]
    },
    {
      "cell_type": "code",
      "metadata": {
        "id": "Vg6rU9-rbF51",
        "colab": {
          "base_uri": "https://localhost:8080/"
        },
        "outputId": "06ae60cf-30a6-449d-dc2d-a9a0c44afa54"
      },
      "source": [
        "weather(37073)"
      ],
      "execution_count": 3,
      "outputs": [
        {
          "output_type": "stream",
          "text": [
            "city: Greenbrier\n",
            "state: TN\n",
            "temperature: 52°\n",
            "zip code: 37073\n"
          ],
          "name": "stdout"
        }
      ]
    },
    {
      "cell_type": "markdown",
      "metadata": {
        "id": "dNbFsCOtlOYb"
      },
      "source": [
        "# Extra Credit"
      ]
    },
    {
      "cell_type": "code",
      "metadata": {
        "id": "yLEFAyrrlRHZ",
        "colab": {
          "base_uri": "https://localhost:8080/"
        },
        "outputId": "8dc4e249-a0ca-4824-ff79-36a44995bbbf"
      },
      "source": [
        "# Be able to handle all of the following zip codes in this list\n",
        "zipcode_list = [92122, str(92122), 9212, 99999, 92328, 'Hello, is this weather.com?']\n",
        "\n",
        "for i in zipcode_list:\n",
        "  weather(i)\n",
        "  print('')   # leave a space in between each output"
      ],
      "execution_count": 4,
      "outputs": [
        {
          "output_type": "stream",
          "text": [
            "city: San Diego\n",
            "state: CA\n",
            "temperature: 57°\n",
            "zip code: 92122\n",
            "\n",
            "city: San Diego\n",
            "state: CA\n",
            "temperature: 57°\n",
            "zip code: 92122\n",
            "\n",
            "Error: not a valid zip code\n",
            "\n",
            "Error: not a valid zip code\n",
            "\n",
            "city: Death Valley\n",
            "state: CA\n",
            "temperature: 85°\n",
            "zip code: 92328\n",
            "\n",
            "Error: not a valid zip code\n",
            "\n"
          ],
          "name": "stdout"
        }
      ]
    }
  ]
}