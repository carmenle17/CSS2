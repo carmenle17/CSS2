{
  "nbformat": 4,
  "nbformat_minor": 0,
  "metadata": {
    "colab": {
      "name": "Le_Carmen_problem_set_1.ipynb",
      "provenance": []
    },
    "kernelspec": {
      "name": "python3",
      "display_name": "Python 3"
    },
    "language_info": {
      "name": "python"
    }
  },
  "cells": [
    {
      "cell_type": "markdown",
      "metadata": {
        "id": "Huv6ATnRdgHL"
      },
      "source": [
        "# **Block 1: Import libraries**"
      ]
    },
    {
      "cell_type": "code",
      "metadata": {
        "id": "Y5iI3dpbcomD"
      },
      "source": [
        "import numpy as np\n",
        "import pandas as pd"
      ],
      "execution_count": null,
      "outputs": []
    },
    {
      "cell_type": "markdown",
      "metadata": {
        "id": "p3RedSpydmaM"
      },
      "source": [
        "# **Block 2: Load the data**"
      ]
    },
    {
      "cell_type": "code",
      "metadata": {
        "colab": {
          "base_uri": "https://localhost:8080/"
        },
        "id": "R04Nvh6Tdp7n",
        "outputId": "abed30e2-8201-40e6-d2ca-9acea6e971bf"
      },
      "source": [
        "data = pd.read_csv('problem_set_1_data.csv')\n",
        "\n",
        "# rename the columns\n",
        "data = data.rename(columns = {\"quizzes\": \"quiz_total\", \"attendedClass\": \"attended\", \"finalgrade\": \"final_grade\", \"final_EXAM\": \"final_exam\", \"student\": \"name\"})\n",
        "\n",
        "# print the head\n",
        "print('head: ')\n",
        "print(data.head())\n",
        "print('')  #skip a line in the output so it looks neater\n",
        "\n",
        "#print the tail\n",
        "print('tail:')\n",
        "print(data.tail())\n",
        "print('')\n",
        "\n",
        "# print a summary of the dataframe\n",
        "print('summary: ')\n",
        "print(data.describe())"
      ],
      "execution_count": null,
      "outputs": [
        {
          "output_type": "stream",
          "text": [
            "head: \n",
            "   quiz_total  attended  final_grade  final_exam               name\n",
            "0       78.50         1        99.38          46       Linnie Lietz\n",
            "1       64.25         0        95.78          45      Mitch Mustain\n",
            "2       76.75         0        97.42          41     Salina Chavera\n",
            "3       69.00         1        92.50          38  Kimberely Conwell\n",
            "4       64.00         0        92.50          39          Zack Burk\n",
            "\n",
            "tail:\n",
            "     quiz_total  attended  final_grade  final_exam                 name\n",
            "166        73.5         0        96.25          45           Dana Malta\n",
            "167        75.5         0        98.13          44         Sixta Heyden\n",
            "168        41.0         0        69.38          32       Brianne Broome\n",
            "169        77.0         0       101.25          47  Elouise Weatherholt\n",
            "170        72.0         0        92.81          38        Addie Maharaj\n",
            "\n",
            "summary: \n",
            "       quiz_total    attended  final_grade  final_exam\n",
            "count  171.000000  171.000000   171.000000  171.000000\n",
            "mean    69.131579    0.192982    91.855380   39.672515\n",
            "std      9.488473    0.395798     9.487795    5.511304\n",
            "min      0.000000    0.000000     2.500000    0.000000\n",
            "25%     65.500000    0.000000    89.380000   37.000000\n",
            "50%     72.000000    0.000000    93.130000   40.000000\n",
            "75%     75.500000    0.000000    96.360000   44.000000\n",
            "max     79.500000    1.000000   104.380000   49.000000\n"
          ],
          "name": "stdout"
        }
      ]
    },
    {
      "cell_type": "markdown",
      "metadata": {
        "id": "hTzsqOzI5hob"
      },
      "source": [
        "### The averages for each column show the average scores that were received in the class on the summed quiz grades, the average attendance (based on either 1 for attendance and 0 for no attendance), the average final grade, and the average score on the final exam."
      ]
    },
    {
      "cell_type": "markdown",
      "metadata": {
        "id": "UsOVFCRgfLFs"
      },
      "source": [
        "# **Block 3: Subset the data by whether someone attended class**"
      ]
    },
    {
      "cell_type": "code",
      "metadata": {
        "colab": {
          "base_uri": "https://localhost:8080/"
        },
        "id": "FUZYfVax4_gy",
        "outputId": "eb079d23-b924-42cc-c87c-5672462df78a"
      },
      "source": [
        "attendedclass = data['attended'] == 1\n",
        "didnotattend = data['attended'] == 0\n",
        "\n",
        "attend = data[attendedclass]\n",
        "no_attend = data[didnotattend]\n",
        "\n",
        "print('attended class:')\n",
        "print(attend.mean())\n",
        "print('')\n",
        "\n",
        "print('did not attend class:')\n",
        "print(no_attend.mean())"
      ],
      "execution_count": null,
      "outputs": [
        {
          "output_type": "stream",
          "text": [
            "attended class:\n",
            "quiz_total     72.500000\n",
            "attended        1.000000\n",
            "final_grade    95.072121\n",
            "final_exam     40.636364\n",
            "dtype: float64\n",
            "\n",
            "did not attend class:\n",
            "quiz_total     68.326087\n",
            "attended        0.000000\n",
            "final_grade    91.086159\n",
            "final_exam     39.442029\n",
            "dtype: float64\n"
          ],
          "name": "stdout"
        }
      ]
    },
    {
      "cell_type": "markdown",
      "metadata": {
        "id": "FwbIN-dt-fM3"
      },
      "source": [
        "* Those who attended class got higher scores than those who didn't attend class.\n",
        "* For those who attended class, the average quiz_total, final_grade, and final_exam were 72.5, 95.072121, and 40.636364.\n",
        "* For those who didn't attend class, the average quiz_total, final_grade, and final_exam were 68.326087, 91.086159, and 39.442029."
      ]
    },
    {
      "cell_type": "markdown",
      "metadata": {
        "id": "KKGKRIHDfMiy"
      },
      "source": [
        "# **Block 4: For 1 bonus point of extra credit: based on the data “quiz_total”, “final_grade”, “final_exam” you have, was anyone working together? If so, spit out their names.**"
      ]
    },
    {
      "cell_type": "code",
      "metadata": {
        "colab": {
          "base_uri": "https://localhost:8080/"
        },
        "id": "abO22tfy7FWz",
        "outputId": "d346bb5f-d45c-4c74-a16d-86ed23c28769"
      },
      "source": [
        "work_together = data[data.duplicated(subset = ['quiz_total', 'final_grade', 'final_exam'], keep = False)]\n",
        "print(work_together)"
      ],
      "execution_count": null,
      "outputs": [
        {
          "output_type": "stream",
          "text": [
            "     quiz_total  attended  final_grade  final_exam           name\n",
            "146        72.0         0        92.81          38  Jaraham Eidda\n",
            "170        72.0         0        92.81          38  Addie Maharaj\n"
          ],
          "name": "stdout"
        }
      ]
    },
    {
      "cell_type": "markdown",
      "metadata": {
        "id": "8wCfJv8WIre3"
      },
      "source": [
        "* Jaraham Eidda and Addie Maharaj worked together"
      ]
    }
  ]
}