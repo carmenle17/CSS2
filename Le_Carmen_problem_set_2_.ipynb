{
  "nbformat": 4,
  "nbformat_minor": 0,
  "metadata": {
    "colab": {
      "name": "Le_Carmen_problem_set_2 .ipynb",
      "provenance": [],
      "collapsed_sections": []
    },
    "kernelspec": {
      "name": "python3",
      "display_name": "Python 3"
    },
    "language_info": {
      "name": "python"
    }
  },
  "cells": [
    {
      "cell_type": "markdown",
      "metadata": {
        "id": "k4Zf47UKWE-1"
      },
      "source": [
        "# **Block 1: Import libraries**"
      ]
    },
    {
      "cell_type": "code",
      "metadata": {
        "id": "NP67lFmWWQ_S"
      },
      "source": [
        "import numpy as np\n",
        "import pandas as pd\n",
        "import matplotlib.pyplot as plt\n",
        "\n",
        "import seaborn as sns"
      ],
      "execution_count": 16,
      "outputs": []
    },
    {
      "cell_type": "markdown",
      "metadata": {
        "id": "KmR3EnolWafb"
      },
      "source": [
        "# **Block 2: Create the figure**"
      ]
    },
    {
      "cell_type": "code",
      "metadata": {
        "id": "IxTtJWgdWgqS",
        "colab": {
          "base_uri": "https://localhost:8080/",
          "height": 297
        },
        "outputId": "26eb1d98-01cb-4a87-ea3f-aafe04ccf4a5"
      },
      "source": [
        "# load dataset\n",
        "data = sns.load_dataset('anscombe')\n",
        "\n",
        "# subset the data\n",
        "data1 = data[data['dataset'] == 'I']\n",
        "data2 = data[data['dataset'] == 'II']\n",
        "data3 = data[data['dataset'] == 'III']\n",
        "data4 = data[data['dataset'] == 'IV']\n",
        "\n",
        "# create the figure and subplots\n",
        "fig,axes = plt.subplots(2,2)\n",
        "axes[0,0].plot(data1['x'], data1['y'], linestyle = '', marker = '.', color = 'red')\n",
        "axes[0,1].plot(data2['x'], data2['y'], linestyle = '', marker = '.', color = 'blue')\n",
        "axes[1,0].plot(data3['x'], data3['y'], linestyle = '', marker = '.', color = 'green')\n",
        "axes[1,1].plot(data4['x'], data4['y'], linestyle = '', marker = '.', color = 'purple') \n",
        "\n",
        "# extra point: use for loops that go through the different datasets\n",
        "\n",
        "count = 0  # create a counter so the name of the datasets increase by 1\n",
        "\n",
        "for i in np.arange(0,axes.shape[0]):\n",
        "  for j in np.arange(0,axes.shape[1]):\n",
        "    axes[i,j].set_xlabel('x' + str(count + 1))  # labels on the axes\n",
        "    axes[i,j].set_ylabel('y' + str(count + 1))\n",
        "    axes[i,j].set_xlim([2,20])  # same x and y limits for each plot\n",
        "    axes[i,j].set_ylim([2,20])\n",
        "    axes[i,j].set_xticks(np.arange(4,25,2))\n",
        "    axes[i,j].set_yticks(np.arange(4,20,2))\n",
        "    axes[i,j].set_title('Dataset '+ str(count + 1))  # title with specific dataset number\n",
        "\n",
        "    # text inside the plot with mean and standard deviation of each dataset\n",
        "    for k in list((data1,data2,data3,data4)):\n",
        "      axes[i,j].text(14,18,'mean of x: ' +str( round(k['x'].mean(),3) ),fontsize = 7)  # round the numbers so they fit in the figures\n",
        "      axes[i,j].text(14,16,'mean of y: ' +str( round(k['y'].mean(),3) ),fontsize = 7)\n",
        "      axes[i,j].text(14,5,'std dev of x: ' +str( round(k['x'].std(),3) ),fontsize = 7)\n",
        "      axes[i,j].text(14,3,'std dev of y: ' +str( round(k['y'].std(),3) ),fontsize = 7)\n",
        "        \n",
        "    count = count + 1  # increase the counter by 1 each time it goes through the loop\n",
        "\n",
        "plt.tight_layout()"
      ],
      "execution_count": 17,
      "outputs": [
        {
          "output_type": "display_data",
          "data": {
            "image/png": "[encoded data removed]",
            "text/plain": [
              "<Figure size 432x288 with 4 Axes>"
            ]
          },
          "metadata": {
            "tags": [],
            "needs_background": "light"
          }
        }
      ]
    },
    {
      "cell_type": "markdown",
      "metadata": {
        "id": "h_abH3NyW0G8"
      },
      "source": [
        "# **Block 3: save the image**"
      ]
    },
    {
      "cell_type": "code",
      "metadata": {
        "id": "xnVzXX7GhoHc"
      },
      "source": [
        "# save as a pdf so it's vectorized\n",
        "fig.savefig('Anscombes_Quartet.pdf')"
      ],
      "execution_count": 18,
      "outputs": []
    }
  ]
}