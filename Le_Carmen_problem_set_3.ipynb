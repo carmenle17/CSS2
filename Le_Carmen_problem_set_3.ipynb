{
  "nbformat": 4,
  "nbformat_minor": 0,
  "metadata": {
    "colab": {
      "name": "Le_Carmen_problem_set_3.ipynb",
      "provenance": []
    },
    "kernelspec": {
      "name": "python3",
      "display_name": "Python 3"
    },
    "language_info": {
      "name": "python"
    }
  },
  "cells": [
    {
      "cell_type": "markdown",
      "metadata": {
        "id": "BlhvK4tkry8k"
      },
      "source": [
        "# Block 1: import libraries"
      ]
    },
    {
      "cell_type": "code",
      "metadata": {
        "id": "Te9WTjX6sAC7"
      },
      "source": [
        "import pandas as pd\n",
        "import numpy as np"
      ],
      "execution_count": 13,
      "outputs": []
    },
    {
      "cell_type": "markdown",
      "metadata": {
        "id": "_uxUGA52ssY8"
      },
      "source": [
        "# Block 2: web scraping the data"
      ]
    },
    {
      "cell_type": "code",
      "metadata": {
        "id": "T7CadcCRs7WW"
      },
      "source": [
        "data = pd.read_html('https://en.wikipedia.org/wiki/MonsterVerse')\n",
        "\n",
        "# this table has the characters and movies\n",
        "data = data[3]"
      ],
      "execution_count": 14,
      "outputs": []
    },
    {
      "cell_type": "markdown",
      "metadata": {
        "id": "Yi_gc40Bsvpz"
      },
      "source": [
        "# Block 3: clean up the dataframe"
      ]
    },
    {
      "cell_type": "code",
      "metadata": {
        "id": "JqzAFB4Nu_mS",
        "colab": {
          "base_uri": "https://localhost:8080/",
          "height": 450
        },
        "outputId": "e0460764-2ee3-4a73-a4dc-8c2dc992be2f"
      },
      "source": [
        "# make the index the different characters instead of 0, 1, 2, 3\n",
        "data = data.set_index(data.columns[0])  # first column is the index\n",
        "\n",
        "# change the column names to just be the names of the movies\n",
        "data.columns = ['Godzilla','Kong:Skull Island','Godzilla:King of the Monsters', 'Godzilla vs. Kong']\n",
        "\n",
        "# change the index name to also just be “character”\n",
        "data.index.name = 'Character'\n",
        "\n",
        "# remove the row that has all duplicates\n",
        "duplicates = (data['Godzilla'] == data['Kong:Skull Island']) & (data['Godzilla'] == data['Godzilla:King of the Monsters']) & (data['Godzilla'] == data['Godzilla vs. Kong'])\n",
        "keep_values = (duplicates==False)  # All the rows except the one that has duplicates\n",
        "data = data[keep_values]\n",
        "\n",
        "# display first few rows\n",
        "data.head(7)"
      ],
      "execution_count": 15,
      "outputs": [
        {
          "output_type": "execute_result",
          "data": {
            "text/html": [
              "<div>\n",
              "<style scoped>\n",
              "    .dataframe tbody tr th:only-of-type {\n",
              "        vertical-align: middle;\n",
              "    }\n",
              "\n",
              "    .dataframe tbody tr th {\n",
              "        vertical-align: top;\n",
              "    }\n",
              "\n",
              "    .dataframe thead th {\n",
              "        text-align: right;\n",
              "    }\n",
              "</style>\n",
              "<table border=\"1\" class=\"dataframe\">\n",
              "  <thead>\n",
              "    <tr style=\"text-align: right;\">\n",
              "      <th></th>\n",
              "      <th>Godzilla</th>\n",
              "      <th>Kong:Skull Island</th>\n",
              "      <th>Godzilla:King of the Monsters</th>\n",
              "      <th>Godzilla vs. Kong</th>\n",
              "    </tr>\n",
              "    <tr>\n",
              "      <th>Character</th>\n",
              "      <th></th>\n",
              "      <th></th>\n",
              "      <th></th>\n",
              "      <th></th>\n",
              "    </tr>\n",
              "  </thead>\n",
              "  <tbody>\n",
              "    <tr>\n",
              "      <th>Godzilla</th>\n",
              "      <td>T.J. StormS</td>\n",
              "      <td>Pictured with archive audio</td>\n",
              "      <td>T.J. StormS</td>\n",
              "      <td>CGI</td>\n",
              "    </tr>\n",
              "    <tr>\n",
              "      <th>MUTO</th>\n",
              "      <td>Matt CrossSLee RossS</td>\n",
              "      <td>NaN</td>\n",
              "      <td>CGI</td>\n",
              "      <td>Archive footage</td>\n",
              "    </tr>\n",
              "    <tr>\n",
              "      <th>King Kong</th>\n",
              "      <td>NaN</td>\n",
              "      <td>Terry NotarySToby KebbellS</td>\n",
              "      <td>Archive footage</td>\n",
              "      <td>Eric PeteyS[57]</td>\n",
              "    </tr>\n",
              "    <tr>\n",
              "      <th>King Ghidorah</th>\n",
              "      <td>NaN</td>\n",
              "      <td>Pictured</td>\n",
              "      <td>Jason LilesSAlan MaxsonSRichard DortonS</td>\n",
              "      <td>Archive footage</td>\n",
              "    </tr>\n",
              "    <tr>\n",
              "      <th>Rodan</th>\n",
              "      <td>NaN</td>\n",
              "      <td>Pictured</td>\n",
              "      <td>Jason LilesS</td>\n",
              "      <td>Archive footage</td>\n",
              "    </tr>\n",
              "    <tr>\n",
              "      <th>Ishiro Serizawa</th>\n",
              "      <td>Ken Watanabe</td>\n",
              "      <td>NaN</td>\n",
              "      <td>Ken Watanabe</td>\n",
              "      <td>NaN</td>\n",
              "    </tr>\n",
              "    <tr>\n",
              "      <th>Vivienne Graham</th>\n",
              "      <td>Sally Hawkins</td>\n",
              "      <td>NaN</td>\n",
              "      <td>Sally Hawkins</td>\n",
              "      <td>NaN</td>\n",
              "    </tr>\n",
              "  </tbody>\n",
              "</table>\n",
              "</div>"
            ],
            "text/plain": [
              "                             Godzilla  ... Godzilla vs. Kong\n",
              "Character                              ...                  \n",
              "Godzilla                  T.J. StormS  ...               CGI\n",
              "MUTO             Matt CrossSLee RossS  ...   Archive footage\n",
              "King Kong                         NaN  ...   Eric PeteyS[57]\n",
              "King Ghidorah                     NaN  ...   Archive footage\n",
              "Rodan                             NaN  ...   Archive footage\n",
              "Ishiro Serizawa          Ken Watanabe  ...               NaN\n",
              "Vivienne Graham         Sally Hawkins  ...               NaN\n",
              "\n",
              "[7 rows x 4 columns]"
            ]
          },
          "metadata": {
            "tags": []
          },
          "execution_count": 15
        }
      ]
    },
    {
      "cell_type": "markdown",
      "metadata": {
        "id": "F3-8tVtssyLO"
      },
      "source": [
        "# Block 4: save the file as a .csv with the delimiter being tabs"
      ]
    },
    {
      "cell_type": "code",
      "metadata": {
        "id": "rwAhkkuKuUBx"
      },
      "source": [
        "data.to_csv('monsterverse_character_films.csv',sep='\\t')"
      ],
      "execution_count": 16,
      "outputs": []
    }
  ]
}