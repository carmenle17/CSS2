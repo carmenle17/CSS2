{
  "nbformat": 4,
  "nbformat_minor": 0,
  "metadata": {
    "colab": {
      "name": "Le_Carmen_problem_set_5.ipynb",
      "provenance": []
    },
    "kernelspec": {
      "name": "python3",
      "display_name": "Python 3"
    },
    "language_info": {
      "name": "python"
    }
  },
  "cells": [
    {
      "cell_type": "markdown",
      "metadata": {
        "id": "QLfBf07BYyqU"
      },
      "source": [
        "# 1: Load relevant libraries"
      ]
    },
    {
      "cell_type": "code",
      "metadata": {
        "id": "ACYYieyuZY-M"
      },
      "source": [
        "import numpy as np\n",
        "import pandas as pd\n",
        "import matplotlib.pyplot as plt\n",
        "import seaborn as sns"
      ],
      "execution_count": 63,
      "outputs": []
    },
    {
      "cell_type": "markdown",
      "metadata": {
        "id": "9SiKxUeSY5ex"
      },
      "source": [
        "# 2: Load the data and make sure there are no extra index columns. Show the shape of the data AND the head of the data"
      ]
    },
    {
      "cell_type": "code",
      "metadata": {
        "colab": {
          "base_uri": "https://localhost:8080/"
        },
        "id": "30Vf4j22Z47y",
        "outputId": "1f6df72e-c19d-4bdc-c3bb-8a4f8c0747b3"
      },
      "source": [
        "data = pd.read_excel('messed_up_iris.xlsx',index_col=0)\n",
        "\n",
        "# print the shape of the data\n",
        "print('shape:',data.shape)\n",
        "\n",
        "print('')\n",
        "\n",
        "# print the head\n",
        "print('head:')\n",
        "print(data.head())"
      ],
      "execution_count": 64,
      "outputs": [
        {
          "output_type": "stream",
          "text": [
            "shape: (150, 7)\n",
            "\n",
            "head:\n",
            "   sepal_length  sepal_width  petal_length  petal_width species   color  origin\n",
            "0           5.1          3.5           1.4          0.2  setosa   green     usa\n",
            "1           4.9          3.0           1.4          0.2  setosa  yellow     usa\n",
            "2           4.7          3.2           1.3          0.2  setosa   green     usa\n",
            "3           4.6          3.1           1.5          0.2  setosa  orange   japan\n",
            "4           5.0          3.6           1.4          0.2  setosa    blue  europe\n"
          ],
          "name": "stdout"
        }
      ]
    },
    {
      "cell_type": "markdown",
      "metadata": {
        "id": "F7_CggaTY8o1"
      },
      "source": [
        "# 3: Remove columns and rows where there are more than 50% of the data missing. Show the shape of the data after you have removed those columns/rows"
      ]
    },
    {
      "cell_type": "code",
      "metadata": {
        "colab": {
          "base_uri": "https://localhost:8080/"
        },
        "id": "ke7VHoFabTTN",
        "outputId": "19138b74-c3f9-47c5-c1fd-6ba73e7ed59e"
      },
      "source": [
        "# drop rows with more than 50% of the data missing\n",
        "drop_nan = data.dropna(thresh = len(data.columns)/2, axis = 0)\n",
        "\n",
        "# drop columns with more than 50% of the data missing\n",
        "drop2_nan = drop_nan.dropna(thresh = len(data.index)/2, axis = 1)\n",
        "\n",
        "# show the shape of the data\n",
        "print('shape:',drop2_nan.shape)"
      ],
      "execution_count": 65,
      "outputs": [
        {
          "output_type": "stream",
          "text": [
            "shape: (145, 6)\n"
          ],
          "name": "stdout"
        }
      ]
    },
    {
      "cell_type": "markdown",
      "metadata": {
        "id": "go_Xq5IQZAdq"
      },
      "source": [
        "# 4: Remove duplicate data, if there is any. Show the shape of the data"
      ]
    },
    {
      "cell_type": "code",
      "metadata": {
        "colab": {
          "base_uri": "https://localhost:8080/"
        },
        "id": "noT2FqlmcjtQ",
        "outputId": "b8197ff5-e996-4eab-f9c6-f92f672db40e"
      },
      "source": [
        "# check the duplicated rows\n",
        "drop2_nan[drop2_nan.duplicated()]   # there are 5 duplicated rows\n",
        "\n",
        "# drop the duplicated rows\n",
        "nodupes = drop2_nan.drop_duplicates(ignore_index=True)\n",
        "\n",
        "# show the shape of the data\n",
        "print('shape:', nodupes.shape)"
      ],
      "execution_count": 66,
      "outputs": [
        {
          "output_type": "stream",
          "text": [
            "shape: (140, 6)\n"
          ],
          "name": "stdout"
        }
      ]
    },
    {
      "cell_type": "markdown",
      "metadata": {
        "id": "7BFv2X-WZBw1"
      },
      "source": [
        "# 5: Dummy code the categorical data. Show the head of the data"
      ]
    },
    {
      "cell_type": "code",
      "metadata": {
        "colab": {
          "base_uri": "https://localhost:8080/",
          "height": 222
        },
        "id": "nqzArvoEkJ02",
        "outputId": "c80123e8-3892-4aab-be12-4c4d38258c7c"
      },
      "source": [
        "# categorical data:species and origin\n",
        "\n",
        "# fix typos in the data\n",
        "nodupes['species'] = np.where(nodupes['species']=='virginia','virginica',nodupes['species'])\n",
        "nodupes['species'] = np.where(nodupes['species']=='west virginia','virginica',nodupes['species'])\n",
        "nodupes['species'] = np.where(nodupes['species']=='versicolr','versicolor',nodupes['species'])\n",
        "nodupes['species'] = np.where(nodupes['species']=='seotsa','setosa',nodupes['species'])\n",
        "\n",
        "nodupes['origin'] = np.where(nodupes['origin']=='uas','usa',nodupes['origin'])\n",
        "nodupes['origin'] = np.where(nodupes['origin']=='euarope','europe',nodupes['origin'])\n",
        "\n",
        "# dummy code the data\n",
        "species_df = pd.get_dummies(nodupes['species'],drop_first=True)\n",
        "origin_df = pd.get_dummies(nodupes['origin'],drop_first=True)\n",
        "\n",
        "# concatenate into one dataframe\n",
        "new_data = pd.concat([nodupes,species_df,origin_df], axis = 1)\n",
        "\n",
        "# show the head of the data\n",
        "new_data.head()"
      ],
      "execution_count": 73,
      "outputs": [
        {
          "output_type": "execute_result",
          "data": {
            "text/html": [
              "<div>\n",
              "<style scoped>\n",
              "    .dataframe tbody tr th:only-of-type {\n",
              "        vertical-align: middle;\n",
              "    }\n",
              "\n",
              "    .dataframe tbody tr th {\n",
              "        vertical-align: top;\n",
              "    }\n",
              "\n",
              "    .dataframe thead th {\n",
              "        text-align: right;\n",
              "    }\n",
              "</style>\n",
              "<table border=\"1\" class=\"dataframe\">\n",
              "  <thead>\n",
              "    <tr style=\"text-align: right;\">\n",
              "      <th></th>\n",
              "      <th>sepal_length</th>\n",
              "      <th>sepal_width</th>\n",
              "      <th>petal_length</th>\n",
              "      <th>petal_width</th>\n",
              "      <th>species</th>\n",
              "      <th>origin</th>\n",
              "      <th>versicolor</th>\n",
              "      <th>virginica</th>\n",
              "      <th>japan</th>\n",
              "      <th>usa</th>\n",
              "    </tr>\n",
              "  </thead>\n",
              "  <tbody>\n",
              "    <tr>\n",
              "      <th>0</th>\n",
              "      <td>5.1</td>\n",
              "      <td>3.5</td>\n",
              "      <td>1.4</td>\n",
              "      <td>0.2</td>\n",
              "      <td>setosa</td>\n",
              "      <td>usa</td>\n",
              "      <td>0</td>\n",
              "      <td>0</td>\n",
              "      <td>0</td>\n",
              "      <td>1</td>\n",
              "    </tr>\n",
              "    <tr>\n",
              "      <th>1</th>\n",
              "      <td>4.9</td>\n",
              "      <td>3.0</td>\n",
              "      <td>1.4</td>\n",
              "      <td>0.2</td>\n",
              "      <td>setosa</td>\n",
              "      <td>usa</td>\n",
              "      <td>0</td>\n",
              "      <td>0</td>\n",
              "      <td>0</td>\n",
              "      <td>1</td>\n",
              "    </tr>\n",
              "    <tr>\n",
              "      <th>2</th>\n",
              "      <td>4.7</td>\n",
              "      <td>3.2</td>\n",
              "      <td>1.3</td>\n",
              "      <td>0.2</td>\n",
              "      <td>setosa</td>\n",
              "      <td>usa</td>\n",
              "      <td>0</td>\n",
              "      <td>0</td>\n",
              "      <td>0</td>\n",
              "      <td>1</td>\n",
              "    </tr>\n",
              "    <tr>\n",
              "      <th>3</th>\n",
              "      <td>4.6</td>\n",
              "      <td>3.1</td>\n",
              "      <td>1.5</td>\n",
              "      <td>0.2</td>\n",
              "      <td>setosa</td>\n",
              "      <td>japan</td>\n",
              "      <td>0</td>\n",
              "      <td>0</td>\n",
              "      <td>1</td>\n",
              "      <td>0</td>\n",
              "    </tr>\n",
              "    <tr>\n",
              "      <th>4</th>\n",
              "      <td>5.0</td>\n",
              "      <td>3.6</td>\n",
              "      <td>1.4</td>\n",
              "      <td>0.2</td>\n",
              "      <td>setosa</td>\n",
              "      <td>europe</td>\n",
              "      <td>0</td>\n",
              "      <td>0</td>\n",
              "      <td>0</td>\n",
              "      <td>0</td>\n",
              "    </tr>\n",
              "  </tbody>\n",
              "</table>\n",
              "</div>"
            ],
            "text/plain": [
              "   sepal_length  sepal_width  petal_length  ...  virginica japan usa\n",
              "0           5.1          3.5           1.4  ...          0     0   1\n",
              "1           4.9          3.0           1.4  ...          0     0   1\n",
              "2           4.7          3.2           1.3  ...          0     0   1\n",
              "3           4.6          3.1           1.5  ...          0     1   0\n",
              "4           5.0          3.6           1.4  ...          0     0   0\n",
              "\n",
              "[5 rows x 10 columns]"
            ]
          },
          "metadata": {
            "tags": []
          },
          "execution_count": 73
        }
      ]
    },
    {
      "cell_type": "markdown",
      "metadata": {
        "id": "Gb90gXm1ZDsy"
      },
      "source": [
        "# 6: Drop the redundant columns from the dataframe so that you are left with just the dummy coded columns. Show the head of the data"
      ]
    },
    {
      "cell_type": "code",
      "metadata": {
        "colab": {
          "base_uri": "https://localhost:8080/",
          "height": 222
        },
        "id": "OHoGAJ-mbZ6D",
        "outputId": "4d9aefe4-9a1d-4a15-f053-3af77ee26106"
      },
      "source": [
        "# drop species and origins\n",
        "new_data = new_data.drop(columns=['species','origin'])\n",
        "new_data.head()"
      ],
      "execution_count": 68,
      "outputs": [
        {
          "output_type": "execute_result",
          "data": {
            "text/html": [
              "<div>\n",
              "<style scoped>\n",
              "    .dataframe tbody tr th:only-of-type {\n",
              "        vertical-align: middle;\n",
              "    }\n",
              "\n",
              "    .dataframe tbody tr th {\n",
              "        vertical-align: top;\n",
              "    }\n",
              "\n",
              "    .dataframe thead th {\n",
              "        text-align: right;\n",
              "    }\n",
              "</style>\n",
              "<table border=\"1\" class=\"dataframe\">\n",
              "  <thead>\n",
              "    <tr style=\"text-align: right;\">\n",
              "      <th></th>\n",
              "      <th>sepal_length</th>\n",
              "      <th>sepal_width</th>\n",
              "      <th>petal_length</th>\n",
              "      <th>petal_width</th>\n",
              "      <th>versicolor</th>\n",
              "      <th>virginica</th>\n",
              "      <th>japan</th>\n",
              "      <th>usa</th>\n",
              "    </tr>\n",
              "  </thead>\n",
              "  <tbody>\n",
              "    <tr>\n",
              "      <th>0</th>\n",
              "      <td>5.1</td>\n",
              "      <td>3.5</td>\n",
              "      <td>1.4</td>\n",
              "      <td>0.2</td>\n",
              "      <td>0</td>\n",
              "      <td>0</td>\n",
              "      <td>0</td>\n",
              "      <td>1</td>\n",
              "    </tr>\n",
              "    <tr>\n",
              "      <th>1</th>\n",
              "      <td>4.9</td>\n",
              "      <td>3.0</td>\n",
              "      <td>1.4</td>\n",
              "      <td>0.2</td>\n",
              "      <td>0</td>\n",
              "      <td>0</td>\n",
              "      <td>0</td>\n",
              "      <td>1</td>\n",
              "    </tr>\n",
              "    <tr>\n",
              "      <th>2</th>\n",
              "      <td>4.7</td>\n",
              "      <td>3.2</td>\n",
              "      <td>1.3</td>\n",
              "      <td>0.2</td>\n",
              "      <td>0</td>\n",
              "      <td>0</td>\n",
              "      <td>0</td>\n",
              "      <td>1</td>\n",
              "    </tr>\n",
              "    <tr>\n",
              "      <th>3</th>\n",
              "      <td>4.6</td>\n",
              "      <td>3.1</td>\n",
              "      <td>1.5</td>\n",
              "      <td>0.2</td>\n",
              "      <td>0</td>\n",
              "      <td>0</td>\n",
              "      <td>1</td>\n",
              "      <td>0</td>\n",
              "    </tr>\n",
              "    <tr>\n",
              "      <th>4</th>\n",
              "      <td>5.0</td>\n",
              "      <td>3.6</td>\n",
              "      <td>1.4</td>\n",
              "      <td>0.2</td>\n",
              "      <td>0</td>\n",
              "      <td>0</td>\n",
              "      <td>0</td>\n",
              "      <td>0</td>\n",
              "    </tr>\n",
              "  </tbody>\n",
              "</table>\n",
              "</div>"
            ],
            "text/plain": [
              "   sepal_length  sepal_width  petal_length  ...  virginica  japan  usa\n",
              "0           5.1          3.5           1.4  ...          0      0    1\n",
              "1           4.9          3.0           1.4  ...          0      0    1\n",
              "2           4.7          3.2           1.3  ...          0      0    1\n",
              "3           4.6          3.1           1.5  ...          0      1    0\n",
              "4           5.0          3.6           1.4  ...          0      0    0\n",
              "\n",
              "[5 rows x 8 columns]"
            ]
          },
          "metadata": {
            "tags": []
          },
          "execution_count": 68
        }
      ]
    },
    {
      "cell_type": "markdown",
      "metadata": {
        "id": "8GczzAYgZF1l"
      },
      "source": [
        "# 7: Remove outliers above 2 standard deviations."
      ]
    },
    {
      "cell_type": "code",
      "metadata": {
        "id": "VMsOMrPydLXT"
      },
      "source": [
        "# create a function that replaces outliers with NaN\n",
        "def outliers(series):\n",
        "  threshold_upper = series.mean() + (2 * series.std())  # 2 std above the mean\n",
        "  threshold_lower = series.mean() - (2 * series.std())  # 2 std below the mean\n",
        "\n",
        "  return np.where((series > threshold_upper) | (series < threshold_lower),np.nan,series)\n",
        "\n",
        "# remove the outliers using the function\n",
        "for column in new_data.columns:\n",
        "  if isinstance(new_data[column][0],float)==1: \n",
        "    new_data[column] = outliers(new_data[column])"
      ],
      "execution_count": 69,
      "outputs": []
    },
    {
      "cell_type": "markdown",
      "metadata": {
        "id": "9m25nF86ZN-w"
      },
      "source": [
        "# 8: For the remaining missing data, replace with the median value."
      ]
    },
    {
      "cell_type": "code",
      "metadata": {
        "id": "_czOpMvmDY8L"
      },
      "source": [
        "fill_nans = new_data.fillna(new_data.median())"
      ],
      "execution_count": 70,
      "outputs": []
    },
    {
      "cell_type": "markdown",
      "metadata": {
        "id": "2gDjXof6ZQRG"
      },
      "source": [
        "# 9: Bonus 0.5 points – Bin or bucket the petal width column into low, medium, and high depending on the following bins = 0 to 0.9, 0.9 to 1.8, 1.8 to 2.7. These should not be dummy coded, but instead, you should have one column with pedal_width as 1 for 0 to 0.9, 2 for 0.9 to 1.8, and 3 for 1.8 to 2.7."
      ]
    },
    {
      "cell_type": "code",
      "metadata": {
        "colab": {
          "base_uri": "https://localhost:8080/",
          "height": 283
        },
        "id": "RqRPBt_Mn0QM",
        "outputId": "f731047b-b4cd-4dce-f87d-081ab5875bbc"
      },
      "source": [
        "petal_ordinal = []\n",
        "\n",
        "final_data = fill_nans.copy()\n",
        "\n",
        "# bin the data WITHOUT dummy coding\n",
        "for i in final_data['petal_width']:\n",
        "  if 0<i<=0.9:  # low\n",
        "    petal_ordinal.append(1)\n",
        "  if 0.9<i<=1.8:   # medium\n",
        "    petal_ordinal.append(2)\n",
        "  if 1.8<i<=2.7:   # high\n",
        "    petal_ordinal.append(3)\n",
        "final_data.insert(len(final_data.columns),'petal_ordinal',petal_ordinal)\n",
        "\n",
        "# show the data\n",
        "final_data.head(7)"
      ],
      "execution_count": 71,
      "outputs": [
        {
          "output_type": "execute_result",
          "data": {
            "text/html": [
              "<div>\n",
              "<style scoped>\n",
              "    .dataframe tbody tr th:only-of-type {\n",
              "        vertical-align: middle;\n",
              "    }\n",
              "\n",
              "    .dataframe tbody tr th {\n",
              "        vertical-align: top;\n",
              "    }\n",
              "\n",
              "    .dataframe thead th {\n",
              "        text-align: right;\n",
              "    }\n",
              "</style>\n",
              "<table border=\"1\" class=\"dataframe\">\n",
              "  <thead>\n",
              "    <tr style=\"text-align: right;\">\n",
              "      <th></th>\n",
              "      <th>sepal_length</th>\n",
              "      <th>sepal_width</th>\n",
              "      <th>petal_length</th>\n",
              "      <th>petal_width</th>\n",
              "      <th>versicolor</th>\n",
              "      <th>virginica</th>\n",
              "      <th>japan</th>\n",
              "      <th>usa</th>\n",
              "      <th>petal_ordinal</th>\n",
              "    </tr>\n",
              "  </thead>\n",
              "  <tbody>\n",
              "    <tr>\n",
              "      <th>0</th>\n",
              "      <td>5.1</td>\n",
              "      <td>3.5</td>\n",
              "      <td>1.4</td>\n",
              "      <td>0.2</td>\n",
              "      <td>0</td>\n",
              "      <td>0</td>\n",
              "      <td>0</td>\n",
              "      <td>1</td>\n",
              "      <td>1</td>\n",
              "    </tr>\n",
              "    <tr>\n",
              "      <th>1</th>\n",
              "      <td>4.9</td>\n",
              "      <td>3.0</td>\n",
              "      <td>1.4</td>\n",
              "      <td>0.2</td>\n",
              "      <td>0</td>\n",
              "      <td>0</td>\n",
              "      <td>0</td>\n",
              "      <td>1</td>\n",
              "      <td>1</td>\n",
              "    </tr>\n",
              "    <tr>\n",
              "      <th>2</th>\n",
              "      <td>4.7</td>\n",
              "      <td>3.2</td>\n",
              "      <td>1.3</td>\n",
              "      <td>0.2</td>\n",
              "      <td>0</td>\n",
              "      <td>0</td>\n",
              "      <td>0</td>\n",
              "      <td>1</td>\n",
              "      <td>1</td>\n",
              "    </tr>\n",
              "    <tr>\n",
              "      <th>3</th>\n",
              "      <td>4.6</td>\n",
              "      <td>3.1</td>\n",
              "      <td>1.5</td>\n",
              "      <td>0.2</td>\n",
              "      <td>0</td>\n",
              "      <td>0</td>\n",
              "      <td>1</td>\n",
              "      <td>0</td>\n",
              "      <td>1</td>\n",
              "    </tr>\n",
              "    <tr>\n",
              "      <th>4</th>\n",
              "      <td>5.0</td>\n",
              "      <td>3.6</td>\n",
              "      <td>1.4</td>\n",
              "      <td>0.2</td>\n",
              "      <td>0</td>\n",
              "      <td>0</td>\n",
              "      <td>0</td>\n",
              "      <td>0</td>\n",
              "      <td>1</td>\n",
              "    </tr>\n",
              "    <tr>\n",
              "      <th>5</th>\n",
              "      <td>5.4</td>\n",
              "      <td>3.9</td>\n",
              "      <td>1.7</td>\n",
              "      <td>0.4</td>\n",
              "      <td>0</td>\n",
              "      <td>0</td>\n",
              "      <td>0</td>\n",
              "      <td>0</td>\n",
              "      <td>1</td>\n",
              "    </tr>\n",
              "    <tr>\n",
              "      <th>6</th>\n",
              "      <td>4.6</td>\n",
              "      <td>3.4</td>\n",
              "      <td>1.4</td>\n",
              "      <td>1.3</td>\n",
              "      <td>0</td>\n",
              "      <td>0</td>\n",
              "      <td>0</td>\n",
              "      <td>0</td>\n",
              "      <td>2</td>\n",
              "    </tr>\n",
              "  </tbody>\n",
              "</table>\n",
              "</div>"
            ],
            "text/plain": [
              "   sepal_length  sepal_width  petal_length  ...  japan  usa  petal_ordinal\n",
              "0           5.1          3.5           1.4  ...      0    1              1\n",
              "1           4.9          3.0           1.4  ...      0    1              1\n",
              "2           4.7          3.2           1.3  ...      0    1              1\n",
              "3           4.6          3.1           1.5  ...      1    0              1\n",
              "4           5.0          3.6           1.4  ...      0    0              1\n",
              "5           5.4          3.9           1.7  ...      0    0              1\n",
              "6           4.6          3.4           1.4  ...      0    0              2\n",
              "\n",
              "[7 rows x 9 columns]"
            ]
          },
          "metadata": {
            "tags": []
          },
          "execution_count": 71
        }
      ]
    },
    {
      "cell_type": "markdown",
      "metadata": {
        "id": "EcOBNIKOZT-v"
      },
      "source": [
        "# 10: Show (i.e., print) that there are no missing data and also use the describe method to show off the final dataset."
      ]
    },
    {
      "cell_type": "code",
      "metadata": {
        "colab": {
          "base_uri": "https://localhost:8080/",
          "height": 522
        },
        "id": "DcNucngRcyX_",
        "outputId": "298a38a6-f732-452f-d10a-32253594e401"
      },
      "source": [
        "print('do any of the columns have missing data?')\n",
        "print(final_data.isnull().any())\n",
        "\n",
        "print('')\n",
        "final_data.describe()"
      ],
      "execution_count": 72,
      "outputs": [
        {
          "output_type": "stream",
          "text": [
            "do any of the columns have missing data?\n",
            "sepal_length     False\n",
            "sepal_width      False\n",
            "petal_length     False\n",
            "petal_width      False\n",
            "versicolor       False\n",
            "virginica        False\n",
            "japan            False\n",
            "usa              False\n",
            "petal_ordinal    False\n",
            "dtype: bool\n",
            "\n"
          ],
          "name": "stdout"
        },
        {
          "output_type": "execute_result",
          "data": {
            "text/html": [
              "<div>\n",
              "<style scoped>\n",
              "    .dataframe tbody tr th:only-of-type {\n",
              "        vertical-align: middle;\n",
              "    }\n",
              "\n",
              "    .dataframe tbody tr th {\n",
              "        vertical-align: top;\n",
              "    }\n",
              "\n",
              "    .dataframe thead th {\n",
              "        text-align: right;\n",
              "    }\n",
              "</style>\n",
              "<table border=\"1\" class=\"dataframe\">\n",
              "  <thead>\n",
              "    <tr style=\"text-align: right;\">\n",
              "      <th></th>\n",
              "      <th>sepal_length</th>\n",
              "      <th>sepal_width</th>\n",
              "      <th>petal_length</th>\n",
              "      <th>petal_width</th>\n",
              "      <th>versicolor</th>\n",
              "      <th>virginica</th>\n",
              "      <th>japan</th>\n",
              "      <th>usa</th>\n",
              "      <th>petal_ordinal</th>\n",
              "    </tr>\n",
              "  </thead>\n",
              "  <tbody>\n",
              "    <tr>\n",
              "      <th>count</th>\n",
              "      <td>140.000000</td>\n",
              "      <td>140.000000</td>\n",
              "      <td>140.000000</td>\n",
              "      <td>140.000000</td>\n",
              "      <td>140.000000</td>\n",
              "      <td>140.000000</td>\n",
              "      <td>140.000000</td>\n",
              "      <td>140.000000</td>\n",
              "      <td>140.000000</td>\n",
              "    </tr>\n",
              "    <tr>\n",
              "      <th>mean</th>\n",
              "      <td>5.872143</td>\n",
              "      <td>3.057857</td>\n",
              "      <td>3.790000</td>\n",
              "      <td>1.209286</td>\n",
              "      <td>0.307143</td>\n",
              "      <td>0.350000</td>\n",
              "      <td>0.300000</td>\n",
              "      <td>0.364286</td>\n",
              "      <td>1.907143</td>\n",
              "    </tr>\n",
              "    <tr>\n",
              "      <th>std</th>\n",
              "      <td>0.791508</td>\n",
              "      <td>0.431505</td>\n",
              "      <td>1.718134</td>\n",
              "      <td>0.757590</td>\n",
              "      <td>0.462966</td>\n",
              "      <td>0.478682</td>\n",
              "      <td>0.459903</td>\n",
              "      <td>0.482957</td>\n",
              "      <td>0.738426</td>\n",
              "    </tr>\n",
              "    <tr>\n",
              "      <th>min</th>\n",
              "      <td>4.300000</td>\n",
              "      <td>2.000000</td>\n",
              "      <td>1.000000</td>\n",
              "      <td>0.100000</td>\n",
              "      <td>0.000000</td>\n",
              "      <td>0.000000</td>\n",
              "      <td>0.000000</td>\n",
              "      <td>0.000000</td>\n",
              "      <td>1.000000</td>\n",
              "    </tr>\n",
              "    <tr>\n",
              "      <th>25%</th>\n",
              "      <td>5.200000</td>\n",
              "      <td>2.800000</td>\n",
              "      <td>1.575000</td>\n",
              "      <td>0.300000</td>\n",
              "      <td>0.000000</td>\n",
              "      <td>0.000000</td>\n",
              "      <td>0.000000</td>\n",
              "      <td>0.000000</td>\n",
              "      <td>1.000000</td>\n",
              "    </tr>\n",
              "    <tr>\n",
              "      <th>50%</th>\n",
              "      <td>5.800000</td>\n",
              "      <td>3.000000</td>\n",
              "      <td>4.400000</td>\n",
              "      <td>1.300000</td>\n",
              "      <td>0.000000</td>\n",
              "      <td>0.000000</td>\n",
              "      <td>0.000000</td>\n",
              "      <td>0.000000</td>\n",
              "      <td>2.000000</td>\n",
              "    </tr>\n",
              "    <tr>\n",
              "      <th>75%</th>\n",
              "      <td>6.400000</td>\n",
              "      <td>3.300000</td>\n",
              "      <td>5.100000</td>\n",
              "      <td>1.800000</td>\n",
              "      <td>1.000000</td>\n",
              "      <td>1.000000</td>\n",
              "      <td>1.000000</td>\n",
              "      <td>1.000000</td>\n",
              "      <td>2.000000</td>\n",
              "    </tr>\n",
              "    <tr>\n",
              "      <th>max</th>\n",
              "      <td>7.900000</td>\n",
              "      <td>4.400000</td>\n",
              "      <td>6.900000</td>\n",
              "      <td>2.500000</td>\n",
              "      <td>1.000000</td>\n",
              "      <td>1.000000</td>\n",
              "      <td>1.000000</td>\n",
              "      <td>1.000000</td>\n",
              "      <td>3.000000</td>\n",
              "    </tr>\n",
              "  </tbody>\n",
              "</table>\n",
              "</div>"
            ],
            "text/plain": [
              "       sepal_length  sepal_width  ...         usa  petal_ordinal\n",
              "count    140.000000   140.000000  ...  140.000000     140.000000\n",
              "mean       5.872143     3.057857  ...    0.364286       1.907143\n",
              "std        0.791508     0.431505  ...    0.482957       0.738426\n",
              "min        4.300000     2.000000  ...    0.000000       1.000000\n",
              "25%        5.200000     2.800000  ...    0.000000       1.000000\n",
              "50%        5.800000     3.000000  ...    0.000000       2.000000\n",
              "75%        6.400000     3.300000  ...    1.000000       2.000000\n",
              "max        7.900000     4.400000  ...    1.000000       3.000000\n",
              "\n",
              "[8 rows x 9 columns]"
            ]
          },
          "metadata": {
            "tags": []
          },
          "execution_count": 72
        }
      ]
    }
  ]
}